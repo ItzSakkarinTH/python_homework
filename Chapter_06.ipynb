{
 "cells": [
  {
   "cell_type": "markdown",
   "id": "53640b66-7ff4-4070-a650-5d759680eaf9",
   "metadata": {},
   "source": [
    "# แบบฝึกหัดบทที่ 6 นิพจน์ และตัวดำเนินการ"
   ]
  },
  {
   "cell_type": "code",
   "execution_count": null,
   "id": "ceb5deba-722b-4021-8716-3a076eb313d3",
   "metadata": {
    "tags": []
   },
   "outputs": [],
   "source": [
    "\"\"\"\n",
    "\n",
    "ชื่อ - นามสกุล - รหัสนักศึกษา\n",
    "\n",
    "นาย ศักรินทร์ หาญทอง 6612732128\n",
    "\n",
    "\"\"\""
   ]
  },
  {
   "cell_type": "markdown",
   "id": "a221518e-96e2-4ea4-a581-4879c95b74f9",
   "metadata": {},
   "source": [
    "<img src=\"https://raw.githubusercontent.com/numvarn/PythonProgramming/cd51bd1f5bd09227372abe03c1587da011004be1/Lesson/excercises/images/chap6_1.png\" width=460px>\n"
   ]
  },
  {
   "cell_type": "markdown",
   "id": "37c266fe-c53b-44da-a397-ef367a154b0b",
   "metadata": {},
   "source": [
    "## 5.1 จงแปลงนิพจน์ทางคณิตศาสตร์ให้เป็นโปรแกรม"
   ]
  },
  {
   "cell_type": "code",
   "execution_count": 1,
   "id": "401e407f-1046-4e6f-ae42-ff8d428fbd10",
   "metadata": {
    "tags": []
   },
   "outputs": [
    {
     "data": {
      "text/plain": [
       "78.53981633974483"
      ]
     },
     "execution_count": 1,
     "metadata": {},
     "output_type": "execute_result"
    }
   ],
   "source": [
    "#คำตอบ\n",
    "\n",
    "import math\n",
    "r = 5\n",
    "a = math.pi * (r**2) \n",
    "a"
   ]
  },
  {
   "cell_type": "markdown",
   "id": "0917eab1-82d0-4ae6-83b3-bd3d3ae61252",
   "metadata": {},
   "source": [
    "## 5.2 จงแปลงนิพจน์ทางคณิตศาสตร์ให้เป็นโปรแกรม"
   ]
  },
  {
   "cell_type": "code",
   "execution_count": null,
   "id": "ce1c251f-7384-42e4-a2c9-1f4df0adb91a",
   "metadata": {
    "tags": []
   },
   "outputs": [],
   "source": [
    "#คำตอบ\n",
    "\n",
    "a, b, c = 2\n",
    "\n",
    "c = (a**2)+(b**2)\n"
   ]
  },
  {
   "cell_type": "markdown",
   "id": "19f3f8e5-f05f-4a0b-a58b-59ba4e8c2f51",
   "metadata": {},
   "source": [
    "## 5.3 จงแปลงนิพจน์ทางคณิตศาสตร์ให้เป็นโปรแกรม"
   ]
  },
  {
   "cell_type": "code",
   "execution_count": 20,
   "id": "80f071f2-1b92-4c7b-b312-9b2bfea85501",
   "metadata": {
    "tags": []
   },
   "outputs": [
    {
     "name": "stdout",
     "output_type": "stream",
     "text": [
      "x =  92\n"
     ]
    }
   ],
   "source": [
    "#คำตอบ\n",
    "\n",
    "import math \n",
    "a = 1\n",
    "b = 10\n",
    "c = 2\n",
    "\n",
    "x = (b**2)-(4*a*c)\n",
    "result = math.sqrt((x)/2*a)\n",
    "\n",
    "print(\"x = \",x)"
   ]
  },
  {
   "cell_type": "markdown",
   "id": "77cd413d-0c91-4374-9954-c2389226a00d",
   "metadata": {},
   "source": [
    "## 5.4 จงแปลงนิพจน์ทางคณิตศาสตร์ให้เป็นโปรแกรม"
   ]
  },
  {
   "cell_type": "code",
   "execution_count": 19,
   "id": "e2bc7708-b26d-4219-91e4-082d3b8284b6",
   "metadata": {
    "tags": []
   },
   "outputs": [
    {
     "name": "stdout",
     "output_type": "stream",
     "text": [
      "a =  20.0\n"
     ]
    }
   ],
   "source": [
    "#คำตอบ\n",
    "\n",
    "import math \n",
    "\n",
    "b = c = d = 10\n",
    "\n",
    "a = ( b * 2) * d  / c\n",
    "\n",
    "print(\"a = \",a )\n"
   ]
  },
  {
   "cell_type": "markdown",
   "id": "6d3a803d-23d6-49a7-adaf-8a55618e84c9",
   "metadata": {},
   "source": [
    "## 5.5 จงแปลงนิพจน์ทางคณิตศาสตร์ให้เป็นโปรแกรม"
   ]
  },
  {
   "cell_type": "code",
   "execution_count": 18,
   "id": "2cbe9d06-0578-4416-ae46-0d233e7cabe4",
   "metadata": {
    "tags": []
   },
   "outputs": [
    {
     "name": "stdout",
     "output_type": "stream",
     "text": [
      "a =  175\n"
     ]
    }
   ],
   "source": [
    "# คำตอบ\n",
    "\n",
    "import math \n",
    "\n",
    "b = 5\n",
    "\n",
    "a = (b**2)*(5+2)\n",
    "\n",
    "print(\"a = \",a)\n"
   ]
  },
  {
   "cell_type": "markdown",
   "id": "292e77f9-219f-4020-a5c3-2f47b61051d8",
   "metadata": {},
   "source": [
    "## แบบฝึกหัดเพิ่มเติม"
   ]
  },
  {
   "cell_type": "markdown",
   "id": "d7891225-22ab-411b-928d-f380dfb7b551",
   "metadata": {},
   "source": [
    "- ดังนั้นเพื่อความปลอดภัย เราจึงนิยมเขียนเครื่องหมายยกกำลัง `**` ติดกับตัวเลข เพื่อให้เป็นที่รู้กันว่า ถ้าหากไม่มีวงเล็บ เราจะเริ่มทำจากเครื่องหมายยกกำลังก่อนเสมอ เช่น เราจะเขียนนิพจน์ $ 2 \\times 5^3 $ ด้วยคำสั่ง `2 * 5**3` เป็นต้น"
   ]
  },
  {
   "cell_type": "markdown",
   "id": "d8c50637-750d-465a-8cc5-4ce9ce4aee7e",
   "metadata": {},
   "source": [
    "- นอกจากนี้เรายังสามารถคำนวณค่าราก (root) ได้โดยการใช้สูตร:\n",
    "\n",
    "$$ \\sqrt[r]{a} = a^{1/r} $$\n",
    "\n",
    "- เช่น เราสามารถคำนวณค่า $ \\sqrt[3]{8} $ (รากที่ 3 ของ 8) ได้โดยคำสั่ง `8**(1/3)`"
   ]
  },
  {
   "cell_type": "code",
   "execution_count": 2,
   "id": "c4a87675-bb32-4bab-b747-1b12788fd9d2",
   "metadata": {},
   "outputs": [
    {
     "data": {
      "text/plain": [
       "2.0"
      ]
     },
     "execution_count": 2,
     "metadata": {},
     "output_type": "execute_result"
    }
   ],
   "source": [
    "8**(1/3)"
   ]
  },
  {
   "cell_type": "markdown",
   "id": "ef83eb50-e5c6-40c5-837a-89d72c0aaca7",
   "metadata": {},
   "source": [
    "เรามาลองคำนวณค่าของนิพจน์ทางคณิตศาสตร์ต่อไปนี้กันครับ\n",
    "\n",
    "1. $ 3 \\times (4 + 1 - 2 \\times 5) $"
   ]
  },
  {
   "cell_type": "code",
   "execution_count": 21,
   "id": "e5f4050f-dd11-4d81-a268-1481e381762e",
   "metadata": {
    "tags": []
   },
   "outputs": [
    {
     "data": {
      "text/plain": [
       "-15"
      ]
     },
     "execution_count": 21,
     "metadata": {},
     "output_type": "execute_result"
    }
   ],
   "source": [
    "3*(4+1-(2*5))"
   ]
  },
  {
   "cell_type": "markdown",
   "id": "d274c7eb-8c7f-4348-b27e-077492b12066",
   "metadata": {},
   "source": [
    "2. $ \\frac{1 + 2 + 3}{4 + 5 + 6} $   [**หมายเหตุ:** โปรดเลือกการใช้เครื่องหมายวงเล็บด้วยความระมัดระวัง]"
   ]
  },
  {
   "cell_type": "code",
   "execution_count": 10,
   "id": "bc9a9c51-6f30-414c-8e5d-dfb84ae3858f",
   "metadata": {
    "tags": []
   },
   "outputs": [
    {
     "data": {
      "text/plain": [
       "0.4"
      ]
     },
     "execution_count": 10,
     "metadata": {},
     "output_type": "execute_result"
    }
   ],
   "source": [
    "(1+2+3) / (4+5+6)"
   ]
  },
  {
   "cell_type": "markdown",
   "id": "0533594c-4c0e-47ab-bfe9-17fdf79e8a49",
   "metadata": {},
   "source": [
    "3. $ 7 \\times \\frac{5 + 6}{7 + \\frac{7}{8}} $"
   ]
  },
  {
   "cell_type": "code",
   "execution_count": 9,
   "id": "11ec4f8c-2eee-4273-bc26-f79b613f30a4",
   "metadata": {
    "tags": []
   },
   "outputs": [
    {
     "data": {
      "text/plain": [
       "9.777777777777779"
      ]
     },
     "execution_count": 9,
     "metadata": {},
     "output_type": "execute_result"
    }
   ],
   "source": [
    "7 * ( 5 + 6) / (7 +( 7 /8 ) )"
   ]
  },
  {
   "cell_type": "markdown",
   "id": "463dce64-eabb-4c44-858c-1743b92176b6",
   "metadata": {},
   "source": [
    "เรามาคำนวณค่าของนิพจน์ดังต่อไปนี้กันครับ\n",
    "\n",
    "4. $ 3^{5 + 3/4} $"
   ]
  },
  {
   "cell_type": "code",
   "execution_count": 24,
   "id": "4126ae3e-a993-4b72-b3af-3d8ef4c60452",
   "metadata": {
    "tags": []
   },
   "outputs": [
    {
     "data": {
      "text/plain": [
       "553.920214840011"
      ]
     },
     "execution_count": 24,
     "metadata": {},
     "output_type": "execute_result"
    }
   ],
   "source": [
    "3**(5+3/4)"
   ]
  },
  {
   "cell_type": "markdown",
   "id": "6e659b31-e080-4df9-9763-1062e629dacc",
   "metadata": {},
   "source": [
    "5. $ \\sqrt[3]{\\left( 7 + 3 \\times 4 \\right)} $"
   ]
  },
  {
   "cell_type": "code",
   "execution_count": 17,
   "id": "e31578d4-b7bc-4877-9a31-9b78c05ac79d",
   "metadata": {
    "tags": []
   },
   "outputs": [
    {
     "data": {
      "text/plain": [
       "3.4199518933533937"
      ]
     },
     "execution_count": 17,
     "metadata": {},
     "output_type": "execute_result"
    }
   ],
   "source": [
    "\n",
    "result = (7+3) *4\n",
    "result **(1/3)"
   ]
  },
  {
   "cell_type": "markdown",
   "id": "51f1b807-35b3-44ba-8aa2-4cd1a80fb52c",
   "metadata": {},
   "source": [
    "6. $ \\frac{5 + 6^{2.5}}{\\sqrt[2]{3.5}} + 3^2 $"
   ]
  },
  {
   "cell_type": "code",
   "execution_count": 7,
   "id": "0c53a970-8207-4734-894a-00e3fe0609f2",
   "metadata": {
    "tags": []
   },
   "outputs": [
    {
     "data": {
      "text/plain": [
       "58.8076767100986"
      ]
     },
     "execution_count": 7,
     "metadata": {},
     "output_type": "execute_result"
    }
   ],
   "source": [
    "import math\n",
    "\n",
    "((5+6**2.5)/math.sqrt (3.5)) +3**2\n"
   ]
  },
  {
   "cell_type": "code",
   "execution_count": null,
   "id": "854263d1-487e-4858-9a53-467f3b57dc12",
   "metadata": {},
   "outputs": [],
   "source": []
  }
 ],
 "metadata": {
  "kernelspec": {
   "display_name": "Python 3 (ipykernel)",
   "language": "python",
   "name": "python3"
  },
  "language_info": {
   "codemirror_mode": {
    "name": "ipython",
    "version": 3
   },
   "file_extension": ".py",
   "mimetype": "text/x-python",
   "name": "python",
   "nbconvert_exporter": "python",
   "pygments_lexer": "ipython3",
   "version": "3.11.5"
  }
 },
 "nbformat": 4,
 "nbformat_minor": 5
}
