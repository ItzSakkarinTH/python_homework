{
 "cells": [
  {
   "cell_type": "markdown",
   "id": "b57a7488-9ad0-4fcb-8ced-bbaeeae42eee",
   "metadata": {
    "tags": []
   },
   "source": [
    "## จงเขียนโปรแกรมดังรูป"
   ]
  },
  {
   "cell_type": "markdown",
   "id": "ace1f444-b1da-4196-8b7f-93b13c4ecb31",
   "metadata": {},
   "source": [
    "## ข้อที่ 1"
   ]
  },
  {
   "cell_type": "code",
   "execution_count": 4,
   "id": "54bdec70-c1a0-4427-bb45-a18d5889981b",
   "metadata": {
    "tags": []
   },
   "outputs": [
    {
     "name": "stdout",
     "output_type": "stream",
     "text": [
      "*\n",
      "**\n",
      "***\n",
      "****\n",
      "*****\n"
     ]
    }
   ],
   "source": [
    "i = \"*\"\n",
    "for i in range(1,6):\n",
    "    print(\"*\" *i)\n"
   ]
  },
  {
   "cell_type": "markdown",
   "id": "ea38834f-3273-484e-aca3-1628f5809508",
   "metadata": {},
   "source": [
    "## ข้อที่ 2"
   ]
  },
  {
   "cell_type": "code",
   "execution_count": 137,
   "id": "338fe4f1-5886-4a2f-afab-1c1b5aee2bbb",
   "metadata": {
    "tags": []
   },
   "outputs": [
    {
     "name": "stdout",
     "output_type": "stream",
     "text": [
      "          * \n",
      "        * * \n",
      "      * * * \n",
      "    * * * * \n",
      "  * * * * * \n",
      "* * * * * * \n"
     ]
    }
   ],
   "source": [
    "num = 6\n",
    "end = num -1\n",
    "for i in range(0,num):\n",
    "    for j in range(0,num):\n",
    "        if j >= end -i: \n",
    "            print(\"*\", end= \" \")\n",
    "        else:\n",
    "            print(\" \",end= \" \")\n",
    "    print()"
   ]
  },
  {
   "cell_type": "code",
   "execution_count": null,
   "id": "27615fcd-53e6-4f19-a01e-7872aee54501",
   "metadata": {},
   "outputs": [],
   "source": [
    "\"\"\"\n",
    "\n",
    "\"\"\""
   ]
  },
  {
   "cell_type": "markdown",
   "id": "b0faa94e-cf4f-48d9-aa7a-dff2692f8807",
   "metadata": {},
   "source": [
    "## ข้อที่ 3"
   ]
  },
  {
   "cell_type": "code",
   "execution_count": 28,
   "id": "d13f1c86-fb76-4796-aea9-1f0206863e4b",
   "metadata": {
    "tags": []
   },
   "outputs": [
    {
     "name": "stdout",
     "output_type": "stream",
     "text": [
      "*****\n",
      "****\n",
      "***\n",
      "**\n",
      "*\n"
     ]
    }
   ],
   "source": [
    "i = \"*\"\n",
    "for i in range(5,0,-1):\n",
    "    print(\"*\"*i)"
   ]
  },
  {
   "cell_type": "markdown",
   "id": "6674369f-8c93-4079-83bd-42fef15ac0f6",
   "metadata": {},
   "source": [
    "## ข้อที่ 4"
   ]
  },
  {
   "cell_type": "code",
   "execution_count": 254,
   "id": "d1343544-be5e-4223-a2d2-1e9fd974d755",
   "metadata": {
    "tags": []
   },
   "outputs": [
    {
     "name": "stdout",
     "output_type": "stream",
     "text": [
      "* * * * * \n",
      " * * * * \n",
      "  * * * \n",
      "   * * \n",
      "    * \n"
     ]
    }
   ],
   "source": [
    "for i in range(5, 0, -1):\n",
    "    print(\" \" * (5 - i), end=\"\")\n",
    "    print(\"* \" * i)"
   ]
  }
 ],
 "metadata": {
  "kernelspec": {
   "display_name": "Python 3 (ipykernel)",
   "language": "python",
   "name": "python3"
  },
  "language_info": {
   "codemirror_mode": {
    "name": "ipython",
    "version": 3
   },
   "file_extension": ".py",
   "mimetype": "text/x-python",
   "name": "python",
   "nbconvert_exporter": "python",
   "pygments_lexer": "ipython3",
   "version": "3.11.5"
  }
 },
 "nbformat": 4,
 "nbformat_minor": 5
}
