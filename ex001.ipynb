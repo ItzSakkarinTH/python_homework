{
 "cells": [
  {
   "cell_type": "code",
   "execution_count": null,
   "id": "971ae157-28a9-45b4-bc27-00acef4456e5",
   "metadata": {},
   "outputs": [],
   "source": [
    "\"งานแรก ให้เขียนชื่อ และ รหัสนักศึกษา ส่งอาจารย์ (5 คะแนน) \" \n",
    "\n",
    "\n",
    "\" นายศักรินทร์ หาญทอง 6612732128 \"\n"
   ]
  }
 ],
 "metadata": {
  "kernelspec": {
   "display_name": "Python 3 (ipykernel)",
   "language": "python",
   "name": "python3"
  },
  "language_info": {
   "codemirror_mode": {
    "name": "ipython",
    "version": 3
   },
   "file_extension": ".py",
   "mimetype": "text/x-python",
   "name": "python",
   "nbconvert_exporter": "python",
   "pygments_lexer": "ipython3",
   "version": "3.11.5"
  }
 },
 "nbformat": 4,
 "nbformat_minor": 5
}
